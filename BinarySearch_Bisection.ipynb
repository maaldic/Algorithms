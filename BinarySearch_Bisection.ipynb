{
 "cells": [
  {
   "cell_type": "code",
   "execution_count": null,
   "id": "525ee03b",
   "metadata": {},
   "outputs": [],
   "source": [
    "#Binary search only works when your list is in sorted order.\n",
    "#The binary_search function takes a sorted array and an item. If the item is in the array, the function returns its position."
   ]
  },
  {
   "cell_type": "code",
   "execution_count": 14,
   "id": "966649e0",
   "metadata": {},
   "outputs": [],
   "source": [
    "# Returns index of x in arr if present, else -1.\n",
    "#arr=array, low=lowest_index, high=highest_index, x=the value we are looking for.\n",
    "#https://www.guru99.com/binary-search.html, for visual explanation.\n",
    "def binary_search(arr,low,high,x):\n",
    "    \n",
    "    if high>=low:\n",
    "        \n",
    "        mid = (high+low)//2\n",
    "        \n",
    "        #If element is present at the middle itself,\n",
    "        if arr[mid]==x:\n",
    "            return mid\n",
    "        \n",
    "        #If element is smaller than mid, then it can only be present in left subarray,\n",
    "        elif arr[mid]>x:\n",
    "            return binary_search(arr,low,mid-1,x)\n",
    "        \n",
    "        #Else the element can only be present in right subarray.\n",
    "        else:\n",
    "            return binary_search(arr,mid+1,high,x)\n",
    "    \n",
    "    \n",
    "    #Element is not present in the array.\n",
    "    else:\n",
    "        return -1"
   ]
  },
  {
   "cell_type": "code",
   "execution_count": 54,
   "id": "3aac7f7b",
   "metadata": {},
   "outputs": [],
   "source": [
    "# Test array\n",
    "arr = [ 2, 3, 4, 10, 40, 52 ]\n",
    "x = 40\n",
    "\n",
    "# Function call\n",
    "result = binary_search(arr, 0, len(arr)-1, x)"
   ]
  },
  {
   "cell_type": "code",
   "execution_count": 55,
   "id": "6dc833b8",
   "metadata": {},
   "outputs": [
    {
     "name": "stdout",
     "output_type": "stream",
     "text": [
      "Element is present at index 4\n"
     ]
    }
   ],
   "source": [
    "if result != -1:\n",
    "    print(\"Element is present at index\", str(result))\n",
    "else:\n",
    "    print(\"Element is not present in array\")"
   ]
  }
 ],
 "metadata": {
  "kernelspec": {
   "display_name": "Python 3 (ipykernel)",
   "language": "python",
   "name": "python3"
  },
  "language_info": {
   "codemirror_mode": {
    "name": "ipython",
    "version": 3
   },
   "file_extension": ".py",
   "mimetype": "text/x-python",
   "name": "python",
   "nbconvert_exporter": "python",
   "pygments_lexer": "ipython3",
   "version": "3.9.12"
  }
 },
 "nbformat": 4,
 "nbformat_minor": 5
}
